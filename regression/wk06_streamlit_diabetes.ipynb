{
 "cells": [
  {
   "cell_type": "code",
   "execution_count": null,
   "metadata": {},
   "outputs": [],
   "source": [
    "# 랜덤포레스트 모델 활용한 예제(streamlit을 활용한 당뇨병 예측)\n",
    "\n",
    "# 사전설치 : pip install streamlit\n",
    "import pandas as pd\n",
    "import numpy as np\n",
    "from sklearn.model_selection train_test_split\n",
    "from sklearn.ensemble import RandomForestClassifier\n",
    "from sklearn.metrics import accuracy_score\n",
    "import joblib\n",
    "import streamlit as st\n",
    "import matplotlib as plt"
   ]
  },
  {
   "cell_type": "code",
   "execution_count": null,
   "metadata": {},
   "outputs": [],
   "source": [
    "# 폰트 지정\n",
    "plt.rcParams['font.family'] = 'Malgun Gothic'\n",
    "\n",
    "# 마이너스 부호 깨짐 지정\n",
    "plt.rcParams['axes.unicode_minus'] = False\n",
    "\n",
    "# 숫자가 지수표현식으로 나올 때 지정\n",
    "pd.options.display.float_format = '{:.2f}'.format"
   ]
  },
  {
   "cell_type": "code",
   "execution_count": null,
   "metadata": {},
   "outputs": [],
   "source": [
    "# 1. 데이터 로드 및 전처리\n",
    "data = pd.read_csv('./dataset/diabetes.dsv')"
   ]
  },
  {
   "cell_type": "code",
   "execution_count": null,
   "metadata": {},
   "outputs": [],
   "source": [
    "# 선택된 feature만 사용\n",
    "selected_features = ['Glucose', 'BMI', 'Age']\n",
    "X = data[selected_features]\n",
    "y = data['Outcome'] # 예측할 대상"
   ]
  },
  {
   "cell_type": "code",
   "execution_count": null,
   "metadata": {},
   "outputs": [],
   "source": [
    "# 학습 데이터와 테스트 데이터 분리\n",
    "X_train, X_test, y_train, y_test = train_test_split(X, y, test_size=0.2, random_state=42)"
   ]
  },
  {
   "cell_type": "code",
   "execution_count": null,
   "metadata": {},
   "outputs": [],
   "source": [
    "# 2. 랜덤 포레스트 모델 학습\n",
    "model = RandomForestClassifier(random_state=42)\n",
    "model,fit(X_train, y_train)"
   ]
  },
  {
   "cell_type": "code",
   "execution_count": null,
   "metadata": {},
   "outputs": [],
   "source": [
    "# 모델 저장\n",
    "joblib.dump(model, 'diabetes_model.pkl')"
   ]
  },
  {
   "cell_type": "code",
   "execution_count": null,
   "metadata": {},
   "outputs": [],
   "source": [
    "# 테스트 데이터로 정확도 확인\n",
    "y_pred = model.predict(X_test)\n",
    "accuracy = accuracy_score(y_test, y_pred)\n",
    "print(f\"Model Accuracy: {accuracy * 100:.2f}%\")"
   ]
  },
  {
   "cell_type": "code",
   "execution_count": null,
   "metadata": {},
   "outputs": [],
   "source": [
    "# 3. Streamlit 앱\n",
    "st.title('당뇨병 예측 시스템')\n",
    "st.write('Glucose, BMI, Age 값을 입력하여 당뇨병 예측을 해보세요.')"
   ]
  },
  {
   "cell_type": "code",
   "execution_count": null,
   "metadata": {},
   "outputs": [],
   "source": [
    "# 사용자 입력받기\n",
    "glucose = st.slider('Glucose (혈당 수치)', min_value=0, max_value=200, value=100)\n",
    "bmi = st.slider('BMI (체질량 지수)', min_value=0.0, max_value=50.0, value=25.0, step=0.1)\n",
    "age = st.slider('Age (나이)', min_value=0, max_value=100, value=30)"
   ]
  },
  {
   "cell_type": "code",
   "execution_count": null,
   "metadata": {},
   "outputs": [],
   "source": [
    "# 예측하기 버튼\n",
    "if st.button('예측하기'):\n",
    "    model = joblib.load('diabetes_model.pkl')\n",
    "    input_data = np.array([[glucose, bmi, age]])\n",
    "    prediction = model.predict(input_data)[0]\n",
    "    \n",
    "    # 결과 출력\n",
    "    if predition == 1\n",
    "        st.write('예측 결과: 당뇨병 가능성이 높습니다.')\n",
    "    else:\n",
    "        st.write('예측 결과: 당뇨병 가능성이 낮습니다.')"
   ]
  }
 ],
 "metadata": {
  "kernelspec": {
   "display_name": ".venv",
   "language": "python",
   "name": "python3"
  },
  "language_info": {
   "name": "python",
   "version": "3.10.6"
  }
 },
 "nbformat": 4,
 "nbformat_minor": 2
}
